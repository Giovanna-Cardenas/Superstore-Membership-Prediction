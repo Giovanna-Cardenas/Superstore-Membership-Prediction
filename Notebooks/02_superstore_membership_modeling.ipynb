{
 "cells": [
  {
   "cell_type": "markdown",
   "id": "6d0a0e4e-dfdb-41b0-a6ec-2bf17fede544",
   "metadata": {},
   "source": [
    "# Superstore Membership Purchase - Predictive Modeling  \n",
    "**Author:** Giovanna Cardenas  \n",
    "**Date:** May 2025  \n",
    "**Description:** This notebook builds and evaluates classification models to predict whether a customer will purchase a $499 membership using decision trees, boosting, and bagging methods. The final model selection is based on accuracy and feature importance."
   ]
  },
  {
   "cell_type": "code",
   "execution_count": 185,
   "id": "20a1aef1-aee0-448e-a275-490d00a67dd9",
   "metadata": {
    "tags": []
   },
   "outputs": [],
   "source": [
    "# Import packages\n",
    "%matplotlib inline\n",
    "from pathlib import Path\n",
    "import pandas as pd\n",
    "import matplotlib.pyplot as plt\n",
    "import warnings\n",
    "from sklearn.tree import DecisionTreeClassifier\n",
    "from sklearn.ensemble import AdaBoostClassifier, BaggingClassifier\n",
    "from sklearn.model_selection import train_test_split\n",
    "from dmba import classificationSummary\n",
    "\n",
    "warnings.filterwarnings('ignore')"
   ]
  },
  {
   "cell_type": "code",
   "execution_count": 187,
   "id": "6ad435c1-c896-4569-a816-7e75aa1bd390",
   "metadata": {
    "tags": []
   },
   "outputs": [
    {
     "data": {
      "text/html": [
       "<div>\n",
       "<style scoped>\n",
       "    .dataframe tbody tr th:only-of-type {\n",
       "        vertical-align: middle;\n",
       "    }\n",
       "\n",
       "    .dataframe tbody tr th {\n",
       "        vertical-align: top;\n",
       "    }\n",
       "\n",
       "    .dataframe thead th {\n",
       "        text-align: right;\n",
       "    }\n",
       "</style>\n",
       "<table border=\"1\" class=\"dataframe\">\n",
       "  <thead>\n",
       "    <tr style=\"text-align: right;\">\n",
       "      <th></th>\n",
       "      <th>Id</th>\n",
       "      <th>Year_Birth</th>\n",
       "      <th>Income</th>\n",
       "      <th>Kidhome</th>\n",
       "      <th>Teenhome</th>\n",
       "      <th>Recency</th>\n",
       "      <th>MntWines</th>\n",
       "      <th>MntFruits</th>\n",
       "      <th>MntMeatProducts</th>\n",
       "      <th>MntFishProducts</th>\n",
       "      <th>...</th>\n",
       "      <th>Response</th>\n",
       "      <th>Complain</th>\n",
       "      <th>Marital_Status_Divorced</th>\n",
       "      <th>Marital_Status_Married</th>\n",
       "      <th>Marital_Status_Single</th>\n",
       "      <th>Marital_Status_Widow</th>\n",
       "      <th>Education_Basic</th>\n",
       "      <th>Education_Graduation</th>\n",
       "      <th>Education_PhD</th>\n",
       "      <th>Education_Postgrad</th>\n",
       "    </tr>\n",
       "  </thead>\n",
       "  <tbody>\n",
       "    <tr>\n",
       "      <th>0</th>\n",
       "      <td>1826</td>\n",
       "      <td>1970</td>\n",
       "      <td>84835.0</td>\n",
       "      <td>0</td>\n",
       "      <td>0</td>\n",
       "      <td>0</td>\n",
       "      <td>189</td>\n",
       "      <td>104</td>\n",
       "      <td>379</td>\n",
       "      <td>111</td>\n",
       "      <td>...</td>\n",
       "      <td>1</td>\n",
       "      <td>0</td>\n",
       "      <td>True</td>\n",
       "      <td>False</td>\n",
       "      <td>False</td>\n",
       "      <td>False</td>\n",
       "      <td>False</td>\n",
       "      <td>True</td>\n",
       "      <td>False</td>\n",
       "      <td>False</td>\n",
       "    </tr>\n",
       "    <tr>\n",
       "      <th>1</th>\n",
       "      <td>1</td>\n",
       "      <td>1961</td>\n",
       "      <td>57091.0</td>\n",
       "      <td>0</td>\n",
       "      <td>0</td>\n",
       "      <td>0</td>\n",
       "      <td>464</td>\n",
       "      <td>5</td>\n",
       "      <td>64</td>\n",
       "      <td>7</td>\n",
       "      <td>...</td>\n",
       "      <td>1</td>\n",
       "      <td>0</td>\n",
       "      <td>False</td>\n",
       "      <td>False</td>\n",
       "      <td>True</td>\n",
       "      <td>False</td>\n",
       "      <td>False</td>\n",
       "      <td>True</td>\n",
       "      <td>False</td>\n",
       "      <td>False</td>\n",
       "    </tr>\n",
       "    <tr>\n",
       "      <th>2</th>\n",
       "      <td>10476</td>\n",
       "      <td>1958</td>\n",
       "      <td>67267.0</td>\n",
       "      <td>0</td>\n",
       "      <td>1</td>\n",
       "      <td>0</td>\n",
       "      <td>134</td>\n",
       "      <td>11</td>\n",
       "      <td>59</td>\n",
       "      <td>15</td>\n",
       "      <td>...</td>\n",
       "      <td>0</td>\n",
       "      <td>0</td>\n",
       "      <td>False</td>\n",
       "      <td>True</td>\n",
       "      <td>False</td>\n",
       "      <td>False</td>\n",
       "      <td>False</td>\n",
       "      <td>True</td>\n",
       "      <td>False</td>\n",
       "      <td>False</td>\n",
       "    </tr>\n",
       "    <tr>\n",
       "      <th>3</th>\n",
       "      <td>5371</td>\n",
       "      <td>1989</td>\n",
       "      <td>21474.0</td>\n",
       "      <td>1</td>\n",
       "      <td>0</td>\n",
       "      <td>0</td>\n",
       "      <td>6</td>\n",
       "      <td>16</td>\n",
       "      <td>24</td>\n",
       "      <td>11</td>\n",
       "      <td>...</td>\n",
       "      <td>1</td>\n",
       "      <td>0</td>\n",
       "      <td>False</td>\n",
       "      <td>False</td>\n",
       "      <td>True</td>\n",
       "      <td>False</td>\n",
       "      <td>False</td>\n",
       "      <td>True</td>\n",
       "      <td>False</td>\n",
       "      <td>False</td>\n",
       "    </tr>\n",
       "    <tr>\n",
       "      <th>4</th>\n",
       "      <td>7348</td>\n",
       "      <td>1958</td>\n",
       "      <td>71691.0</td>\n",
       "      <td>0</td>\n",
       "      <td>0</td>\n",
       "      <td>0</td>\n",
       "      <td>336</td>\n",
       "      <td>130</td>\n",
       "      <td>411</td>\n",
       "      <td>240</td>\n",
       "      <td>...</td>\n",
       "      <td>1</td>\n",
       "      <td>0</td>\n",
       "      <td>False</td>\n",
       "      <td>False</td>\n",
       "      <td>True</td>\n",
       "      <td>False</td>\n",
       "      <td>False</td>\n",
       "      <td>False</td>\n",
       "      <td>True</td>\n",
       "      <td>False</td>\n",
       "    </tr>\n",
       "  </tbody>\n",
       "</table>\n",
       "<p>5 rows × 27 columns</p>\n",
       "</div>"
      ],
      "text/plain": [
       "      Id  Year_Birth   Income  Kidhome  Teenhome  Recency  MntWines  \\\n",
       "0   1826        1970  84835.0        0         0        0       189   \n",
       "1      1        1961  57091.0        0         0        0       464   \n",
       "2  10476        1958  67267.0        0         1        0       134   \n",
       "3   5371        1989  21474.0        1         0        0         6   \n",
       "4   7348        1958  71691.0        0         0        0       336   \n",
       "\n",
       "   MntFruits  MntMeatProducts  MntFishProducts  ...  Response  Complain  \\\n",
       "0        104              379              111  ...         1         0   \n",
       "1          5               64                7  ...         1         0   \n",
       "2         11               59               15  ...         0         0   \n",
       "3         16               24               11  ...         1         0   \n",
       "4        130              411              240  ...         1         0   \n",
       "\n",
       "   Marital_Status_Divorced  Marital_Status_Married  Marital_Status_Single  \\\n",
       "0                     True                   False                  False   \n",
       "1                    False                   False                   True   \n",
       "2                    False                    True                  False   \n",
       "3                    False                   False                   True   \n",
       "4                    False                   False                   True   \n",
       "\n",
       "   Marital_Status_Widow  Education_Basic  Education_Graduation  Education_PhD  \\\n",
       "0                 False            False                  True          False   \n",
       "1                 False            False                  True          False   \n",
       "2                 False            False                  True          False   \n",
       "3                 False            False                  True          False   \n",
       "4                 False            False                 False           True   \n",
       "\n",
       "   Education_Postgrad  \n",
       "0               False  \n",
       "1               False  \n",
       "2               False  \n",
       "3               False  \n",
       "4               False  \n",
       "\n",
       "[5 rows x 27 columns]"
      ]
     },
     "execution_count": 187,
     "metadata": {},
     "output_type": "execute_result"
    }
   ],
   "source": [
    "# Load data\n",
    "df= pd.read_csv('superstore_data_clean.csv')\n",
    "df.head()"
   ]
  },
  {
   "cell_type": "code",
   "execution_count": 189,
   "id": "032890bb-49b6-4550-acf6-380b3c17c6f2",
   "metadata": {
    "tags": []
   },
   "outputs": [],
   "source": [
    "# Separate the features and target variable to split the data into training and testing sets\n",
    "x = df.drop(columns=['Response'])\n",
    "y = df['Response']\n",
    "x_train, x_test, y_train, y_test = train_test_split(x, y, test_size=0.20, random_state=1)"
   ]
  },
  {
   "cell_type": "code",
   "execution_count": 191,
   "id": "0a925da5-f2de-4b22-96f3-4e248b6279c9",
   "metadata": {
    "tags": []
   },
   "outputs": [
    {
     "name": "stdout",
     "output_type": "stream",
     "text": [
      "Confusion Matrix (Accuracy 0.8384)\n",
      "\n",
      "       Prediction\n",
      "Actual   0   1\n",
      "     0 248  28\n",
      "     1  25  27\n"
     ]
    }
   ],
   "source": [
    "# Initialize and fit a Decision Tree Classifier\n",
    "defaultTree = DecisionTreeClassifier(random_state=20)\n",
    "defaultTree.fit(x_train, y_train)\n",
    "\n",
    "# Evaluate using classification summary\n",
    "classes = defaultTree.classes_\n",
    "classificationSummary(y_test, defaultTree.predict(x_test), class_names=defaultTree.classes_)"
   ]
  },
  {
   "cell_type": "code",
   "execution_count": 193,
   "id": "c541ba32-a783-486d-a8be-c3e53805b48d",
   "metadata": {},
   "outputs": [
    {
     "name": "stdout",
     "output_type": "stream",
     "text": [
      "                    Feature  Importance\n",
      "18  Marital_Status_Divorced    0.000000\n",
      "17                 Complain    0.000000\n",
      "21     Marital_Status_Widow    0.000917\n",
      "24            Education_PhD    0.002261\n",
      "4                  Teenhome    0.003670\n",
      "23     Education_Graduation    0.005780\n",
      "20    Marital_Status_Single    0.007798\n",
      "22          Education_Basic    0.009436\n",
      "25       Education_Postgrad    0.012058\n",
      "3                   Kidhome    0.012615\n",
      "15        NumStorePurchases    0.028732\n",
      "19   Marital_Status_Married    0.029380\n",
      "1                Year_Birth    0.035336\n",
      "13          NumWebPurchases    0.039325\n",
      "16        NumWebVisitsMonth    0.040606\n",
      "12        NumDealsPurchases    0.040814\n",
      "9           MntFishProducts    0.045825\n",
      "7                 MntFruits    0.046715\n",
      "8           MntMeatProducts    0.048195\n",
      "10         MntSweetProducts    0.049460\n",
      "0                        Id    0.060618\n",
      "5                   Recency    0.063761\n",
      "14      NumCatalogPurchases    0.066441\n",
      "6                  MntWines    0.085484\n",
      "11             MntGoldProds    0.095219\n",
      "2                    Income    0.169554\n"
     ]
    }
   ],
   "source": [
    "# Get feature importances from the tree\n",
    "importances = defaultTree.feature_importances_\n",
    "df_i = pd.DataFrame({'Feature': x_train.columns, 'Importance': importances})\n",
    "df_i = df_i.sort_values('Importance')\n",
    "print(df_i)"
   ]
  },
  {
   "cell_type": "code",
   "execution_count": 195,
   "id": "f0307d98-ed4e-4120-91e0-e14db8cebd63",
   "metadata": {},
   "outputs": [
    {
     "name": "stdout",
     "output_type": "stream",
     "text": [
      "Confusion Matrix (Accuracy 0.8445)\n",
      "\n",
      "       Prediction\n",
      "Actual   0   1\n",
      "     0 251  25\n",
      "     1  26  26\n"
     ]
    }
   ],
   "source": [
    "# Remove unimportant variables\n",
    "df.drop(columns=['Kidhome','Complain', 'Teenhome'], inplace=True)\n",
    "\n",
    "# Redefine features and target and split the new reduced data set into training and testing sets\n",
    "x = df.drop(columns=['Response'])\n",
    "y = df['Response']\n",
    "x_train, x_test, y_train, y_test = train_test_split(x, y, test_size=0.20, random_state=1)\n",
    "\n",
    "# Run tree calssification again\n",
    "defaultTree = DecisionTreeClassifier(random_state=20)\n",
    "defaultTree.fit(x_train, y_train)\n",
    "\n",
    "classes = defaultTree.classes_\n",
    "classificationSummary(y_test, defaultTree.predict(x_test), class_names=defaultTree.classes_)"
   ]
  },
  {
   "cell_type": "code",
   "execution_count": 197,
   "id": "f00984ef-2b24-4a40-bd89-49cf87dbfe6c",
   "metadata": {
    "tags": []
   },
   "outputs": [
    {
     "name": "stdout",
     "output_type": "stream",
     "text": [
      "Confusion Matrix (Accuracy 0.8506)\n",
      "\n",
      "       Prediction\n",
      "Actual   0   1\n",
      "     0 253  23\n",
      "     1  26  26\n"
     ]
    }
   ],
   "source": [
    "# Boost Tree and check for accuracy improvement\n",
    "boost = AdaBoostClassifier(DecisionTreeClassifier(random_state=20), n_estimators=100, random_state=1)\n",
    "boost.fit(x_train, y_train)\n",
    "\n",
    "classificationSummary(y_test, boost.predict(x_test), class_names=classes)"
   ]
  },
  {
   "cell_type": "code",
   "execution_count": 199,
   "id": "59e2c16e-1cb1-4acc-a6e7-153262f0014c",
   "metadata": {
    "tags": []
   },
   "outputs": [
    {
     "name": "stdout",
     "output_type": "stream",
     "text": [
      "Confusion Matrix (Accuracy 0.8811)\n",
      "\n",
      "       Prediction\n",
      "Actual   0   1\n",
      "     0 271   5\n",
      "     1  34  18\n"
     ]
    }
   ],
   "source": [
    "# Bag Tree and check for accuracy improvement\n",
    "bagging = BaggingClassifier(DecisionTreeClassifier(random_state=20), \n",
    "                            n_estimators=100, random_state=1)\n",
    "bagging.fit(x_train, y_train)\n",
    "\n",
    "classificationSummary(y_test, bagging.predict(x_test), class_names=classes)"
   ]
  },
  {
   "cell_type": "markdown",
   "id": "9987e888-dea7-4d5b-9b47-4967d4c34c6b",
   "metadata": {},
   "source": [
    "### Bagged tree is the best model as it has the highest accuracy score."
   ]
  }
 ],
 "metadata": {
  "kernelspec": {
   "display_name": "Python [conda env:base] *",
   "language": "python",
   "name": "conda-base-py"
  },
  "language_info": {
   "codemirror_mode": {
    "name": "ipython",
    "version": 3
   },
   "file_extension": ".py",
   "mimetype": "text/x-python",
   "name": "python",
   "nbconvert_exporter": "python",
   "pygments_lexer": "ipython3",
   "version": "3.11.5"
  }
 },
 "nbformat": 4,
 "nbformat_minor": 5
}
